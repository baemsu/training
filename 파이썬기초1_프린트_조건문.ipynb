{
  "nbformat": 4,
  "nbformat_minor": 0,
  "metadata": {
    "colab": {
      "name": "파이썬기초1_프린트_조건문.ipynb",
      "provenance": [],
      "collapsed_sections": [
        "Pup271UNqjtm",
        "jaZ9cUbtrU6w",
        "YanrAZCtstK3",
        "LV1RnEujuKlt",
        "2pUHQi7uv1ED",
        "BRlwv-z2w5s_",
        "bVQNA1BvxPtJ",
        "p8P8Cx7Bx13M",
        "v1NEQCFOyXxW",
        "cRUUg9u60h97",
        "WJKf7FKIzazI"
      ],
      "toc_visible": true,
      "authorship_tag": "ABX9TyNPbovpmiSiNQFsrJyUCYNR",
      "include_colab_link": true
    },
    "kernelspec": {
      "name": "python3",
      "display_name": "Python 3"
    },
    "language_info": {
      "name": "python"
    }
  },
  "cells": [
    {
      "cell_type": "markdown",
      "metadata": {
        "id": "view-in-github",
        "colab_type": "text"
      },
      "source": [
        "<a href=\"https://colab.research.google.com/github/baemsu/training/blob/main/%ED%8C%8C%EC%9D%B4%EC%8D%AC%EA%B8%B0%EC%B4%881_%ED%94%84%EB%A6%B0%ED%8A%B8_%EC%A1%B0%EA%B1%B4%EB%AC%B8.ipynb\" target=\"_parent\"><img src=\"https://colab.research.google.com/assets/colab-badge.svg\" alt=\"Open In Colab\"/></a>"
      ]
    },
    {
      "cell_type": "markdown",
      "metadata": {
        "id": "Pup271UNqjtm"
      },
      "source": [
        "# 프린트를 하려면...\n",
        "\n"
      ]
    },
    {
      "cell_type": "code",
      "metadata": {
        "id": "DiN23iaMqtrp"
      },
      "source": [
        "print(\"헬로\")"
      ],
      "execution_count": null,
      "outputs": []
    },
    {
      "cell_type": "code",
      "metadata": {
        "id": "0w_KhWp2q13L"
      },
      "source": [
        "print(3, \"헬로\")"
      ],
      "execution_count": null,
      "outputs": []
    },
    {
      "cell_type": "code",
      "metadata": {
        "id": "0K6E1g0wq8N7"
      },
      "source": [
        "a = \"정말\"\n",
        "print(\"AI는\",a, \"재밌다\")"
      ],
      "execution_count": null,
      "outputs": []
    },
    {
      "cell_type": "markdown",
      "metadata": {
        "id": "jaZ9cUbtrU6w"
      },
      "source": [
        "# 자료형에 대한 이해\n",
        "\n",
        "-정수, 실수, 복수형, 문자열(큰따옴표,작은따옴표)\n",
        "\n",
        "-리스트형 [    ] - ['문자', 숫자]\n",
        "\n",
        "-주석 - 한줄 주석은 #, 여러줄 주석 \"\"\"    \"\"\"(따옴표 3개) \n"
      ]
    },
    {
      "cell_type": "code",
      "metadata": {
        "id": "D9eFROWkrAMw"
      },
      "source": [
        "a = 10\n",
        "b = \"뱀뱀뱀\"\n",
        "c = ['a', 'b','c']"
      ],
      "execution_count": null,
      "outputs": []
    },
    {
      "cell_type": "code",
      "metadata": {
        "id": "Qnj4y-JpsUVL"
      },
      "source": [
        "print(type(a))\n",
        "print(type(b))\n",
        "print(type(c))"
      ],
      "execution_count": null,
      "outputs": []
    },
    {
      "cell_type": "markdown",
      "metadata": {
        "id": "YanrAZCtstK3"
      },
      "source": [
        "#변수란? 자료를 담는것!\n",
        "\n",
        "-변수는 숫자로만 안됨, 숫자로 시작하면 안됨, 예약어 안됨, 공백문자, 연산자도 안됨"
      ]
    },
    {
      "cell_type": "code",
      "metadata": {
        "id": "H0BqnhMmsWCE"
      },
      "source": [
        "1a = 1"
      ],
      "execution_count": null,
      "outputs": []
    },
    {
      "cell_type": "code",
      "metadata": {
        "id": "XBz16Pi2tAAd"
      },
      "source": [
        "a1 = 1"
      ],
      "execution_count": null,
      "outputs": []
    },
    {
      "cell_type": "code",
      "metadata": {
        "id": "zYcFJk6-tB5G"
      },
      "source": [
        "a* = 1"
      ],
      "execution_count": null,
      "outputs": []
    },
    {
      "cell_type": "markdown",
      "metadata": {
        "id": "mEJXcRNCtXpB"
      },
      "source": [
        "# 숫자의 연산 \n",
        "-, +, *, / ,//(나눈몫), %(나눈 나머지), **(제곱)\n"
      ]
    },
    {
      "cell_type": "code",
      "metadata": {
        "id": "_IKpGikgtMQt"
      },
      "source": [
        "a = 10//3\n",
        "b = 10%3\n",
        "c = 10**3\n",
        "print(a, b, c)"
      ],
      "execution_count": null,
      "outputs": []
    },
    {
      "cell_type": "code",
      "metadata": {
        "colab": {
          "base_uri": "https://localhost:8080/"
        },
        "id": "UAPZpCA738Wd",
        "outputId": "517c7f61-a2d2-463d-8cdc-c2645d95be1e"
      },
      "source": [
        "a = 16\n",
        "b = 2\n",
        "print(a, \"-\",b, \"=\",a-b)\n",
        "print(a, \"+\",b, \"=\",a+b)\n",
        "print(a, \"/\",b, \"=\",a/b)\n",
        "print(a, \"*\",b, \"=\",a*b)\n",
        "print(a, \"//\",b, \"=\",a//b)\n",
        "print(a, \"%\",b, \"=\",a%b)\n",
        "print(a, \"**\",b, \"=\",a**b)\n",
        "print(\" 루트\",a, \"=\",a**0.5)"
      ],
      "execution_count": null,
      "outputs": [
        {
          "output_type": "stream",
          "text": [
            "16 - 2 = 14\n",
            "16 + 2 = 18\n",
            "16 / 2 = 8.0\n",
            "16 * 2 = 32\n",
            "16 // 2 = 8\n",
            "16 % 2 = 0\n",
            "16 ** 2 = 256\n",
            " 루트 16 = 4.0\n"
          ],
          "name": "stdout"
        }
      ]
    },
    {
      "cell_type": "markdown",
      "metadata": {
        "id": "LV1RnEujuKlt"
      },
      "source": [
        "# 문자의 연산\n",
        "+:이어붙이기  print(\"안녕\"+\"하세요\")\n",
        "*:반복하기   print(\"안녕\"*3)\n",
        "\n",
        "-2개의 단어를 연결하고, 반복하세요"
      ]
    },
    {
      "cell_type": "code",
      "metadata": {
        "id": "BD65lFCZuO3l"
      },
      "source": [
        "a = \"AI\"\n",
        "b = \"재밌다\"\n",
        "c = a + b\n",
        "d = a*10"
      ],
      "execution_count": null,
      "outputs": []
    },
    {
      "cell_type": "code",
      "metadata": {
        "id": "WNbU2JUruJ9x"
      },
      "source": [
        "print(c)"
      ],
      "execution_count": null,
      "outputs": []
    },
    {
      "cell_type": "code",
      "metadata": {
        "id": "mYEUy7hYto2j"
      },
      "source": [
        "print(d)"
      ],
      "execution_count": null,
      "outputs": []
    },
    {
      "cell_type": "markdown",
      "metadata": {
        "id": "2pUHQi7uv1ED"
      },
      "source": [
        "#문자열 접근\n",
        "-각문장의 문자를 가지고 오세요\n",
        "\n",
        "-문장안의 일부 단어를 가지고오세요"
      ]
    },
    {
      "cell_type": "code",
      "metadata": {
        "id": "jSwOdARGtPWY"
      },
      "source": [
        "a=\"AI는 재밌다\""
      ],
      "execution_count": null,
      "outputs": []
    },
    {
      "cell_type": "code",
      "metadata": {
        "id": "E-daUT99v9F4"
      },
      "source": [
        "print(a[0])\n",
        "print(a[1])\n",
        "print(a[-1])"
      ],
      "execution_count": null,
      "outputs": []
    },
    {
      "cell_type": "code",
      "metadata": {
        "id": "gGrZ4BQFwDwW"
      },
      "source": [
        "print(a[0:2])"
      ],
      "execution_count": null,
      "outputs": []
    },
    {
      "cell_type": "code",
      "metadata": {
        "id": "0x2VOJ06wOQr"
      },
      "source": [
        "b = a.split()"
      ],
      "execution_count": null,
      "outputs": []
    },
    {
      "cell_type": "code",
      "metadata": {
        "id": "fGpT5yhTwkDR"
      },
      "source": [
        "print(b)"
      ],
      "execution_count": null,
      "outputs": []
    },
    {
      "cell_type": "markdown",
      "metadata": {
        "id": "BRlwv-z2w5s_"
      },
      "source": [
        "# 키보드입력 후 출력하기"
      ]
    },
    {
      "cell_type": "code",
      "metadata": {
        "id": "t7gn30gHwlWU"
      },
      "source": [
        "a = input()"
      ],
      "execution_count": null,
      "outputs": []
    },
    {
      "cell_type": "code",
      "metadata": {
        "id": "VAPXZE7WxD7M"
      },
      "source": [
        "print(a)"
      ],
      "execution_count": null,
      "outputs": []
    },
    {
      "cell_type": "markdown",
      "metadata": {
        "id": "bVQNA1BvxPtJ"
      },
      "source": [
        "# 형태, 즉 타입을 변환하기\n",
        "- 정수를 문자로, 문자를 정수로, 또는 실수로"
      ]
    },
    {
      "cell_type": "code",
      "metadata": {
        "id": "TRxU1ENExHu4"
      },
      "source": [
        "a = \"123\"\n",
        "b=int(a)"
      ],
      "execution_count": null,
      "outputs": []
    },
    {
      "cell_type": "code",
      "metadata": {
        "id": "sXYJW7JbxmRW"
      },
      "source": [
        "print(a)\n",
        "print(b)"
      ],
      "execution_count": null,
      "outputs": []
    },
    {
      "cell_type": "code",
      "metadata": {
        "id": "t9fBZ9gLxfte"
      },
      "source": [
        "print(type(a))\n",
        "print(type(b))"
      ],
      "execution_count": null,
      "outputs": []
    },
    {
      "cell_type": "markdown",
      "metadata": {
        "id": "p8P8Cx7Bx13M"
      },
      "source": [
        "# 논리자료형: 참 ,거짓만 가지고 있음\n",
        "-비교연산자: 숫자 문자의 값을 비교하는 연산자\n",
        "\n",
        "-참이면 True, 거짓이면 False\n",
        "\n",
        "== 같다, != 다르다. > , <, >=, <="
      ]
    },
    {
      "cell_type": "code",
      "metadata": {
        "id": "WaTlRw5SxpzD"
      },
      "source": [
        "print(3==4, 4<5)"
      ],
      "execution_count": null,
      "outputs": []
    },
    {
      "cell_type": "code",
      "metadata": {
        "id": "d4m42ISbyGrd"
      },
      "source": [
        "print(3==4 or 4<5)"
      ],
      "execution_count": null,
      "outputs": []
    },
    {
      "cell_type": "code",
      "metadata": {
        "id": "ljAZSNCcyKwq"
      },
      "source": [
        "print(3==4 and 4<5)"
      ],
      "execution_count": null,
      "outputs": []
    },
    {
      "cell_type": "code",
      "metadata": {
        "id": "QzwrvS8DyM9e"
      },
      "source": [
        "print(3!=4 or 4>5)"
      ],
      "execution_count": null,
      "outputs": []
    },
    {
      "cell_type": "markdown",
      "metadata": {
        "id": "v1NEQCFOyXxW"
      },
      "source": [
        "# 조건문 (if, else)\n",
        "if 조건:\n",
        "\n",
        "  <조건이 참이면 수행할 명령>\n",
        "\n",
        "else: \n",
        "\n",
        "  <조건이 거짓이면 수행할 명령>\n",
        "\n",
        "==> 반드시 if에  들어갈 명령어들은 같은 들여쓰기로 한다. "
      ]
    },
    {
      "cell_type": "code",
      "metadata": {
        "id": "qXOQYlxhyXLE"
      },
      "source": [
        "a = input()\n",
        "if a == '1':\n",
        "  print(a+\"입니다.\")\n",
        "else:\n",
        "  print(\"1이 아닙니다.\")"
      ],
      "execution_count": null,
      "outputs": []
    },
    {
      "cell_type": "markdown",
      "metadata": {
        "id": "cRUUg9u60h97"
      },
      "source": [
        "# 다중 조건문 (if, elif, else)\n",
        "\n",
        "if 조건1:\n",
        "\n",
        "  <조건1일때 실행>\n",
        "\n",
        "elif 조건2:\n",
        "\n",
        "  <조건2일때 실행>\n",
        "\n",
        "else:\n",
        "\n",
        "  <이외일때 실행>"
      ]
    },
    {
      "cell_type": "code",
      "metadata": {
        "id": "49_fxKyW03Cl"
      },
      "source": [
        "a = input()\n",
        "a = int(a)\n",
        "\n",
        "b = input()\n",
        "b = int(b)\n",
        "\n",
        "\n",
        "if(a<b):\n",
        "  print(\"처음입력수보다 두번째 입력수가 큽니다.\")\n",
        "elif(a>b):\n",
        "  print(\"처음입력수보다 두번째 입력수가 작습니다.\")\n",
        "else:\n",
        "  print(\"두 수가 동일합니다.\")"
      ],
      "execution_count": null,
      "outputs": []
    },
    {
      "cell_type": "markdown",
      "metadata": {
        "id": "WJKf7FKIzazI"
      },
      "source": [
        "# 실습 \n",
        " - 지금까지 배운 것으로 다음을 실습해 보시기 바랍니다.\n",
        "\n",
        " -input()을 이용해서 숫자(정수) 입력을 받고, 변수 a에 이를 넣어봅시다. (팁: input 명령어는 문자만 받기때문에 형태 변환이 필요합니다.)\n",
        "\n",
        "- if-else문을 이용해서 만약 입력받은 수가 홀수면 \"(입력받은 수) 홀수입니다.\"\n",
        "\n",
        "- 짝수면 \"(입력받은 수) 짝수입니다.\"를 출력해봅니다."
      ]
    },
    {
      "cell_type": "code",
      "metadata": {
        "id": "9h0w0BbwzZu8"
      },
      "source": [
        "a = input()\n",
        "a = int(a)\n",
        "\n",
        "if(a%2==0):\n",
        "  print(a,\"짝수입니다.\")\n",
        "else:\n",
        "  print(a,\"홀수입니다.\")"
      ],
      "execution_count": null,
      "outputs": []
    },
    {
      "cell_type": "code",
      "metadata": {
        "id": "1GXMlrAq0ODF"
      },
      "source": [
        ""
      ],
      "execution_count": null,
      "outputs": []
    }
  ]
}